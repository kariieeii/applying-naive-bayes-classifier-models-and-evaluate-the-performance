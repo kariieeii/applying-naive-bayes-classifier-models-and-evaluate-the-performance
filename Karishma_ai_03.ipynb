{
  "nbformat": 4,
  "nbformat_minor": 0,
  "metadata": {
    "colab": {
      "provenance": []
    },
    "kernelspec": {
      "name": "python3",
      "display_name": "Python 3"
    },
    "language_info": {
      "name": "python"
    }
  },
  "cells": [
    {
      "cell_type": "code",
      "execution_count": 1,
      "metadata": {
        "colab": {
          "base_uri": "https://localhost:8080/"
        },
        "id": "FicPQLGHEhLw",
        "outputId": "555b912f-4e3a-4279-e2b8-ec7d4787df20"
      },
      "outputs": [
        {
          "output_type": "stream",
          "name": "stdout",
          "text": [
            "First 5 rows of the dataset:\n",
            "   Id  SepalLengthCm  SepalWidthCm  PetalLengthCm  PetalWidthCm      Species\n",
            "0   1            5.1           3.5            1.4           0.2  Iris-setosa\n",
            "1   2            4.9           3.0            1.4           0.2  Iris-setosa\n",
            "2   3            4.7           3.2            1.3           0.2  Iris-setosa\n",
            "3   4            4.6           3.1            1.5           0.2  Iris-setosa\n",
            "4   5            5.0           3.6            1.4           0.2  Iris-setosa\n",
            "\n",
            "Shape of the dataset (rows, columns): (150, 6)\n",
            "\n",
            "Statistical summary of the dataset:\n",
            "               Id  SepalLengthCm  SepalWidthCm  PetalLengthCm  PetalWidthCm\n",
            "count  150.000000     150.000000    150.000000     150.000000    150.000000\n",
            "mean    75.500000       5.843333      3.054000       3.758667      1.198667\n",
            "std     43.445368       0.828066      0.433594       1.764420      0.763161\n",
            "min      1.000000       4.300000      2.000000       1.000000      0.100000\n",
            "25%     38.250000       5.100000      2.800000       1.600000      0.300000\n",
            "50%     75.500000       5.800000      3.000000       4.350000      1.300000\n",
            "75%    112.750000       6.400000      3.300000       5.100000      1.800000\n",
            "max    150.000000       7.900000      4.400000       6.900000      2.500000\n"
          ]
        }
      ],
      "source": [
        "import pandas as pd\n",
        "iris_data = pd.read_csv('Iris.csv')\n",
        "print(\"First 5 rows of the dataset:\")\n",
        "print(iris_data.head())\n",
        "shape = iris_data.shape\n",
        "print(\"\\nShape of the dataset (rows, columns):\", shape)\n",
        "statistics = iris_data.describe()\n",
        "print(\"\\nStatistical summary of the dataset:\")\n",
        "print(statistics)"
      ]
    },
    {
      "cell_type": "code",
      "source": [
        "X = iris_data.drop('Species', axis=1)\n",
        "Y = iris_data['Species']\n",
        "print(\"Shape of X (features):\", X.shape)\n",
        "print(\"Shape of Y (output):\", Y.shape)"
      ],
      "metadata": {
        "colab": {
          "base_uri": "https://localhost:8080/"
        },
        "id": "fDYvOFjRHLl6",
        "outputId": "444c8dfb-150b-4f31-d5a6-d9687ec606f7"
      },
      "execution_count": 2,
      "outputs": [
        {
          "output_type": "stream",
          "name": "stdout",
          "text": [
            "Shape of X (features): (150, 5)\n",
            "Shape of Y (output): (150,)\n"
          ]
        }
      ]
    },
    {
      "cell_type": "code",
      "source": [
        "from sklearn.preprocessing import LabelEncoder\n",
        "\n",
        "label_encoder = LabelEncoder()\n",
        "Y_encoded = label_encoder.fit_transform(Y)\n",
        "\n",
        "print(\"Encoded Y (Species):\", Y_encoded)"
      ],
      "metadata": {
        "colab": {
          "base_uri": "https://localhost:8080/"
        },
        "id": "sYBYBiGvHezz",
        "outputId": "3ce8d676-81b0-4006-ea61-0062e811ea6b"
      },
      "execution_count": 11,
      "outputs": [
        {
          "output_type": "stream",
          "name": "stdout",
          "text": [
            "Encoded Y (Species): [0 0 0 0 0 0 0 0 0 0 0 0 0 0 0 0 0 0 0 0 0 0 0 0 0 0 0 0 0 0 0 0 0 0 0 0 0\n",
            " 0 0 0 0 0 0 0 0 0 0 0 0 0 1 1 1 1 1 1 1 1 1 1 1 1 1 1 1 1 1 1 1 1 1 1 1 1\n",
            " 1 1 1 1 1 1 1 1 1 1 1 1 1 1 1 1 1 1 1 1 1 1 1 1 1 1 2 2 2 2 2 2 2 2 2 2 2\n",
            " 2 2 2 2 2 2 2 2 2 2 2 2 2 2 2 2 2 2 2 2 2 2 2 2 2 2 2 2 2 2 2 2 2 2 2 2 2\n",
            " 2 2]\n"
          ]
        }
      ]
    },
    {
      "cell_type": "code",
      "source": [
        "from sklearn.model_selection import train_test_split\n",
        "\n",
        "ratios = [(0.6, 0.4), (0.5, 0.5), (0.7, 0.3), (0.8, 0.2), (0.55, 0.45), (0.55, 0.25)]\n",
        "\n",
        "for train_ratio, test_ratio in ratios:\n",
        "    X_train, X_test, Y_train, Y_test = train_test_split(X, Y_encoded, test_size=test_ratio, random_state=42)\n",
        "    print(f\"Train set shape ({train_ratio*100}% of data): X_train={X_train.shape}, Y_train={Y_train.shape}\")\n",
        "    print(f\"Test set shape ({test_ratio*100}% of data): X_test={X_test.shape}, Y_test={Y_test.shape}\")"
      ],
      "metadata": {
        "colab": {
          "base_uri": "https://localhost:8080/"
        },
        "id": "sIGBcvIGIxY9",
        "outputId": "8b1de901-0173-4ee0-e3b7-bff35f449aea"
      },
      "execution_count": 12,
      "outputs": [
        {
          "output_type": "stream",
          "name": "stdout",
          "text": [
            "Train set shape (60.0% of data): X_train=(90, 5), Y_train=(90,)\n",
            "Test set shape (40.0% of data): X_test=(60, 5), Y_test=(60,)\n",
            "Train set shape (50.0% of data): X_train=(75, 5), Y_train=(75,)\n",
            "Test set shape (50.0% of data): X_test=(75, 5), Y_test=(75,)\n",
            "Train set shape (70.0% of data): X_train=(105, 5), Y_train=(105,)\n",
            "Test set shape (30.0% of data): X_test=(45, 5), Y_test=(45,)\n",
            "Train set shape (80.0% of data): X_train=(120, 5), Y_train=(120,)\n",
            "Test set shape (20.0% of data): X_test=(30, 5), Y_test=(30,)\n",
            "Train set shape (55.00000000000001% of data): X_train=(82, 5), Y_train=(82,)\n",
            "Test set shape (45.0% of data): X_test=(68, 5), Y_test=(68,)\n",
            "Train set shape (55.00000000000001% of data): X_train=(112, 5), Y_train=(112,)\n",
            "Test set shape (25.0% of data): X_test=(38, 5), Y_test=(38,)\n"
          ]
        }
      ]
    },
    {
      "cell_type": "code",
      "source": [
        "seeds = [3, 9, 12, 33]\n",
        "for seed in seeds:\n",
        "    X_train, X_test, Y_train, Y_test = train_test_split(X, Y_encoded, test_size=0.4, random_state=seed)\n",
        "    print(f\"Random Seed {seed}:\")\n",
        "    print(f\"X_train shape: {X_train.shape}, X_test shape: {X_test.shape}\")\n",
        "    print(f\"Y_train shape: {Y_train.shape}, Y_test shape: {Y_test.shape}\")"
      ],
      "metadata": {
        "colab": {
          "base_uri": "https://localhost:8080/"
        },
        "id": "Ox6M-njbJF2N",
        "outputId": "8a06782d-13d2-419f-b82e-d012f4ab3994"
      },
      "execution_count": 13,
      "outputs": [
        {
          "output_type": "stream",
          "name": "stdout",
          "text": [
            "Random Seed 3:\n",
            "X_train shape: (90, 5), X_test shape: (60, 5)\n",
            "Y_train shape: (90,), Y_test shape: (60,)\n",
            "Random Seed 9:\n",
            "X_train shape: (90, 5), X_test shape: (60, 5)\n",
            "Y_train shape: (90,), Y_test shape: (60,)\n",
            "Random Seed 12:\n",
            "X_train shape: (90, 5), X_test shape: (60, 5)\n",
            "Y_train shape: (90,), Y_test shape: (60,)\n",
            "Random Seed 33:\n",
            "X_train shape: (90, 5), X_test shape: (60, 5)\n",
            "Y_train shape: (90,), Y_test shape: (60,)\n"
          ]
        }
      ]
    },
    {
      "cell_type": "code",
      "source": [
        "import pandas as pd\n",
        "\n",
        "df = pd.read_csv(\"wine.csv\")\n",
        "print(\"Shape of the data:\", df.shape)\n",
        "print(\"Statistical values:\")\n",
        "print(df.describe())"
      ],
      "metadata": {
        "colab": {
          "base_uri": "https://localhost:8080/"
        },
        "id": "x-lrnSPPMO_v",
        "outputId": "d851edea-7324-49f2-b16f-1569dfea7f48"
      },
      "execution_count": 15,
      "outputs": [
        {
          "output_type": "stream",
          "name": "stdout",
          "text": [
            "Shape of the data: (178, 14)\n",
            "Statistical values:\n",
            "             Wine     Alcohol  Malic.acid         Ash         Acl          Mg  \\\n",
            "count  178.000000  178.000000  178.000000  178.000000  178.000000  178.000000   \n",
            "mean     1.938202   13.000618    2.336348    2.366517   19.494944   99.741573   \n",
            "std      0.775035    0.811827    1.117146    0.274344    3.339564   14.282484   \n",
            "min      1.000000   11.030000    0.740000    1.360000   10.600000   70.000000   \n",
            "25%      1.000000   12.362500    1.602500    2.210000   17.200000   88.000000   \n",
            "50%      2.000000   13.050000    1.865000    2.360000   19.500000   98.000000   \n",
            "75%      3.000000   13.677500    3.082500    2.557500   21.500000  107.000000   \n",
            "max      3.000000   14.830000    5.800000    3.230000   30.000000  162.000000   \n",
            "\n",
            "          Phenols  Flavanoids  Nonflavanoid.phenols     Proanth   Color.int  \\\n",
            "count  178.000000  178.000000            178.000000  178.000000  178.000000   \n",
            "mean     2.295112    2.029270              0.361854    1.590899    5.058090   \n",
            "std      0.625851    0.998859              0.124453    0.572359    2.318286   \n",
            "min      0.980000    0.340000              0.130000    0.410000    1.280000   \n",
            "25%      1.742500    1.205000              0.270000    1.250000    3.220000   \n",
            "50%      2.355000    2.135000              0.340000    1.555000    4.690000   \n",
            "75%      2.800000    2.875000              0.437500    1.950000    6.200000   \n",
            "max      3.880000    5.080000              0.660000    3.580000   13.000000   \n",
            "\n",
            "              Hue          OD      Proline  \n",
            "count  178.000000  178.000000   178.000000  \n",
            "mean     0.957449    2.611685   746.893258  \n",
            "std      0.228572    0.709990   314.907474  \n",
            "min      0.480000    1.270000   278.000000  \n",
            "25%      0.782500    1.937500   500.500000  \n",
            "50%      0.965000    2.780000   673.500000  \n",
            "75%      1.120000    3.170000   985.000000  \n",
            "max      1.710000    4.000000  1680.000000  \n"
          ]
        }
      ]
    },
    {
      "cell_type": "code",
      "source": [
        "X = df.drop(columns=['Wine'])\n",
        "Y = df['Wine']\n",
        "\n",
        "print(\"Shape of X (features):\", X.shape)\n",
        "print(\"Shape of Y (target):\", Y.shape)"
      ],
      "metadata": {
        "colab": {
          "base_uri": "https://localhost:8080/"
        },
        "id": "P3R0kb-eMRR0",
        "outputId": "ab9f03bb-d045-4e2f-a35e-fb7b92c24a82"
      },
      "execution_count": 16,
      "outputs": [
        {
          "output_type": "stream",
          "name": "stdout",
          "text": [
            "Shape of X (features): (178, 13)\n",
            "Shape of Y (target): (178,)\n"
          ]
        }
      ]
    },
    {
      "cell_type": "code",
      "source": [
        "from sklearn.model_selection import train_test_split\n",
        "from sklearn.naive_bayes import GaussianNB\n",
        "\n",
        "X_train, X_test, Y_train, Y_test = train_test_split(X, Y, test_size=0.3, random_state=12)\n",
        "gnb = GaussianNB()\n",
        "gnb.fit(X_train, Y_train)\n",
        "\n",
        "Y_pred = gnb.predict(X_test)"
      ],
      "metadata": {
        "id": "2s9fdsxhMUl-"
      },
      "execution_count": 19,
      "outputs": []
    },
    {
      "cell_type": "code",
      "source": [
        "from sklearn.metrics import accuracy_score, precision_score, recall_score, f1_score, roc_auc_score, confusion_matrix\n",
        "\n",
        "accuracy = accuracy_score(Y_test, Y_pred)\n",
        "print(\"\\nAccuracy:\", accuracy)\n",
        "\n",
        "precision = precision_score(Y_test, Y_pred, average='weighted')\n",
        "print(\"Precision:\", precision)\n",
        "\n",
        "recall = recall_score(Y_test, Y_pred, average='weighted')\n",
        "print(\"Recall:\", recall)\n",
        "\n",
        "f1 = f1_score(Y_test, Y_pred, average='weighted')\n",
        "print(\"F1-Score:\", f1)\n",
        "\n",
        "from sklearn.preprocessing import label_binarize\n",
        "Y_test_bin = label_binarize(Y_test, classes=[1, 2, 3])\n",
        "Y_pred_bin = label_binarize(Y_pred, classes=[1, 2, 3])\n",
        "n_classes = Y_test_bin.shape[1]\n",
        "\n",
        "roc_auc = roc_auc_score(Y_test_bin, Y_pred_bin, average='macro')\n",
        "print(\"AUC:\", roc_auc)"
      ],
      "metadata": {
        "colab": {
          "base_uri": "https://localhost:8080/"
        },
        "id": "ugaU5Y6oMZCj",
        "outputId": "fbf7fd7f-b560-418f-8bf7-19c68ee4a2ae"
      },
      "execution_count": 20,
      "outputs": [
        {
          "output_type": "stream",
          "name": "stdout",
          "text": [
            "\n",
            "Accuracy: 0.9444444444444444\n",
            "Precision: 0.9474703461631565\n",
            "Recall: 0.9444444444444444\n",
            "F1-Score: 0.9445027013654466\n",
            "AUC: 0.9597465886939571\n"
          ]
        }
      ]
    }
  ]
}